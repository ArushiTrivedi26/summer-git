{
  "nbformat": 4,
  "nbformat_minor": 0,
  "metadata": {
    "colab": {
      "provenance": [],
      "authorship_tag": "ABX9TyPc8OKCqywAiJTBf9GEXWwA",
      "include_colab_link": true
    },
    "kernelspec": {
      "name": "python3",
      "display_name": "Python 3"
    },
    "language_info": {
      "name": "python"
    }
  },
  "cells": [
    {
      "cell_type": "markdown",
      "metadata": {
        "id": "view-in-github",
        "colab_type": "text"
      },
      "source": [
        "<a href=\"https://colab.research.google.com/github/ArushiTrivedi26/summer-git/blob/main/09may_if_else.ipynb\" target=\"_parent\"><img src=\"https://colab.research.google.com/assets/colab-badge.svg\" alt=\"Open In Colab\"/></a>"
      ]
    },
    {
      "cell_type": "code",
      "execution_count": null,
      "metadata": {
        "colab": {
          "base_uri": "https://localhost:8080/"
        },
        "id": "dA-rOqKgT27T",
        "outputId": "1e51d328-e422-4d5a-85be-33ae665f2eac"
      },
      "outputs": [
        {
          "output_type": "stream",
          "name": "stdout",
          "text": [
            "Hello World\n"
          ]
        }
      ],
      "source": [
        "print(\"Hello World\")"
      ]
    },
    {
      "cell_type": "code",
      "source": [
        "#take an integer from the user and check whether the number is even or odd\n",
        "n=int(input(\"enter an integer:\"))\n",
        "if n%2==0:\n",
        "  print(\"number is even\")\n",
        "else:\n",
        "  print(\"number is false\")"
      ],
      "metadata": {
        "colab": {
          "base_uri": "https://localhost:8080/"
        },
        "id": "fiyRBXtjUNJH",
        "outputId": "efd05237-50c4-420c-efb9-6cf6644611ed"
      },
      "execution_count": null,
      "outputs": [
        {
          "output_type": "stream",
          "name": "stdout",
          "text": [
            "enter an integer:34\n",
            "number is even\n"
          ]
        }
      ]
    },
    {
      "cell_type": "code",
      "source": [
        "# Write a program that takes three numbers as input and prints the largest of the three.\n",
        "x=input(\"enter first number:\")\n",
        "y=input(\"enter second number:\")\n",
        "z=input(\"enter third number:\")\n",
        "if x>y and x>z :\n",
        "  print(\"x is largest of three\")\n",
        "elif y>x and y>z:\n",
        "  print(\"y is largest of three\")\n",
        "else:\n",
        "  print(\"z is largest of three\")"
      ],
      "metadata": {
        "colab": {
          "base_uri": "https://localhost:8080/"
        },
        "id": "VR4PoujvVi1N",
        "outputId": "06ddf2c4-3868-40da-9d7c-a378c2c1bfd2"
      },
      "execution_count": null,
      "outputs": [
        {
          "output_type": "stream",
          "name": "stdout",
          "text": [
            "enter first number:67\n",
            "enter second number:78\n",
            "enter third number:89\n",
            "z is largest of three\n"
          ]
        }
      ]
    },
    {
      "cell_type": "code",
      "source": [
        "# Write a program to check if a given year is a leap year. A leap year is divisible by 4 but not by 100 unless it is also divisible by 400.\n",
        "year = int(input(\"enter the year:\"))\n",
        "if (year % 4 == 0 and year % 100 != 0) or (year % 400 == 0 ):\n",
        "  print(str(year) +\"is a leap year\")\n",
        "else:\n",
        "  print(str(year) +\"is not a leap year\")"
      ],
      "metadata": {
        "colab": {
          "base_uri": "https://localhost:8080/"
        },
        "id": "LLW3j2QQW7GG",
        "outputId": "42207669-ec65-4035-da76-59b6b16e1de0"
      },
      "execution_count": null,
      "outputs": [
        {
          "output_type": "stream",
          "name": "stdout",
          "text": [
            "enter the year:1987\n",
            "1987is not a leap year\n"
          ]
        }
      ]
    },
    {
      "cell_type": "code",
      "source": [
        "# Write a program to check if a given year is a leap year. A leap year is divisible by 4 but not by 100 unless it is also divisible by 400.\n",
        "year = int(input(\"enter the year:\"))\n",
        "if (year % 4 == 0 and year % 100 != 0) or (year % 400 == 0):\n",
        "  print(f\"{year} is a leap year\")\n",
        "\n",
        "else:\n",
        "  print(f\"{year} is not a leap year\")"
      ],
      "metadata": {
        "colab": {
          "base_uri": "https://localhost:8080/"
        },
        "id": "8m1jxADvZ4Zl",
        "outputId": "a1d8c60c-70d8-4e29-9b14-3c8cb0223c09"
      },
      "execution_count": null,
      "outputs": [
        {
          "output_type": "stream",
          "name": "stdout",
          "text": [
            "enter the year:1962\n",
            "1962 is not a leap year\n"
          ]
        }
      ]
    },
    {
      "cell_type": "code",
      "source": [],
      "metadata": {
        "id": "VnCOFjyqg0L7"
      },
      "execution_count": null,
      "outputs": []
    },
    {
      "cell_type": "code",
      "source": [
        "# Write a program that takes a percentage (integer) as input and prints the corresponding grade based on the following criteria\n",
        "'''≥ 90: Grade A\n",
        "    ≥ 80: Grade B\n",
        "    ≥ 70: Grade C\n",
        "    ≥ 60: Grade D\n",
        "    < 60: Grade F'''\n",
        "percentage = int(input(\"enter your percentage:\"))\n",
        "if (percentage >= 90):\n",
        "  print(\"Grade A\")\n",
        "elif (percentage >= 80):\n",
        "  print(\"Grade B\")\n",
        "elif (percentage >= 70):\n",
        "  print(\"Grade c\")\n",
        "elif (percentage >= 60):\n",
        "  print(\"Grade d\")\n",
        "else:\n",
        "  print(\"Grade F\")\n",
        "\n"
      ],
      "metadata": {
        "colab": {
          "base_uri": "https://localhost:8080/"
        },
        "id": "YAaix0bfawMX",
        "outputId": "3c6de213-0286-44dc-d3da-b29583aa51e7"
      },
      "execution_count": null,
      "outputs": [
        {
          "output_type": "stream",
          "name": "stdout",
          "text": [
            "enter your percentage:78\n",
            "Grade c\n"
          ]
        }
      ]
    },
    {
      "cell_type": "code",
      "source": [
        "# Vowel or Consonant Checker\n",
        "\n",
        "letter = input(\"Enter any alphabet: \").lower()  # Convert to lowercase for consistency\n",
        "\n",
        "# Check if input is a single letter\n",
        "if len(letter) == 1 and letter.isalpha():\n",
        "    if letter in ('a', 'e', 'i', 'o', 'u'):\n",
        "        print(letter, \"is a vowel.\")\n",
        "    else:\n",
        "        print(letter, \"is a consonant.\")\n",
        "else:\n",
        "    print(\"Please enter a single valid alphabet letter.\")\n"
      ],
      "metadata": {
        "colab": {
          "base_uri": "https://localhost:8080/"
        },
        "id": "1rxalsGViHkg",
        "outputId": "a14a5506-ee47-4106-bcb7-e84077a47220"
      },
      "execution_count": null,
      "outputs": [
        {
          "output_type": "stream",
          "name": "stdout",
          "text": [
            "Enter any alphabet: d\n",
            "d is a consonant.\n"
          ]
        }
      ]
    },
    {
      "cell_type": "code",
      "source": [
        "# Write a basic calculator program that takes two numbers and an operator (+, -, *, /) as input and performs the specified operation. Print the result based on the operation.\n",
        "a = int(input(\"enter the first number:\"))\n",
        "b = int(input(\"enter the second number:\"))\n",
        "operator = input(\"enter operator(+ , - , * , / ):\")\n",
        "\n",
        "if operator == '+' :\n",
        "  print(a+b)\n",
        "elif operator == '-' :\n",
        "  print(a-b)\n",
        "elif operator == '*' :\n",
        "  print(a*b)\n",
        "elif operator == '/' :\n",
        "  print(a/b)\n",
        "else :\n",
        "  print(\"invalid operator\")"
      ],
      "metadata": {
        "colab": {
          "base_uri": "https://localhost:8080/"
        },
        "id": "AmY5MkWbqqgO",
        "outputId": "7975696a-786f-4372-9a50-f7fb025ea71a"
      },
      "execution_count": null,
      "outputs": [
        {
          "output_type": "stream",
          "name": "stdout",
          "text": [
            "enter the first number:24\n",
            "enter the second number:37\n",
            "enter operator(+ , - , * , / ):/\n",
            "0.6486486486486487\n"
          ]
        }
      ]
    },
    {
      "cell_type": "code",
      "source": [
        "# Write a program that takes a number as input and checks whether it is positive, negative, or zero.\n",
        "number = float(input(\"enter any number:\"))\n",
        "if number > 0 :\n",
        "  print(\"number is positive\")\n",
        "elif number < 0 :\n",
        "  print(\"number is negative\")\n",
        "else:\n",
        "  print(\"number is zero\")"
      ],
      "metadata": {
        "colab": {
          "base_uri": "https://localhost:8080/"
        },
        "id": "Gn-tOXxjyaUi",
        "outputId": "c3fe5f69-d3c1-46b8-ef23-c5671f40c58a"
      },
      "execution_count": null,
      "outputs": [
        {
          "output_type": "stream",
          "name": "stdout",
          "text": [
            "enter any number:-987\n",
            "number is negative\n"
          ]
        }
      ]
    },
    {
      "cell_type": "code",
      "source": [
        "# pre-defined credentials\n",
        "correct_username = \"admin\"\n",
        "correct_password = \"1234\"\n",
        "\n",
        "# entered credentials\n",
        "username = input(\"enter username : \")\n",
        "password = input(\"enter password : \")\n",
        "\n",
        "#checking the conditions\n",
        "if correct_username == username and correct_password == password :\n",
        "  print(\"Login successful\")\n",
        "\n",
        "else:\n",
        "  print(\"Login failed\")"
      ],
      "metadata": {
        "colab": {
          "base_uri": "https://localhost:8080/"
        },
        "id": "i20turfotLPg",
        "outputId": "2f08a93c-26e0-4eba-d138-7e2b5f2b4613"
      },
      "execution_count": null,
      "outputs": [
        {
          "output_type": "stream",
          "name": "stdout",
          "text": [
            "enter username : admin\n",
            "enter password : 1234\n",
            "Login successful\n"
          ]
        }
      ]
    },
    {
      "cell_type": "code",
      "source": [
        "# triangle validity checker\n",
        "\n",
        "# take three sides of the triangle as input\n",
        "a=float(input(\"enter first side of the triangle :\"))\n",
        "b=float(input(\"enter second side of the triangle :\"))\n",
        "c=float(input(\"enter third side of the triangle :\"))\n",
        "\n",
        "# check triangle inequality condition\n",
        "if a+b>c and b+c>a and a+c>b :\n",
        "  print(\"The sides of the triangle forms a valid triangle \")\n",
        "else:\n",
        "  print(\"The sides of the triangle forms an invalid triangle\")\n"
      ],
      "metadata": {
        "colab": {
          "base_uri": "https://localhost:8080/"
        },
        "id": "jhOSldwHuipl",
        "outputId": "afbe276b-af8a-47ee-cd9f-e8a1e7df7f76"
      },
      "execution_count": null,
      "outputs": [
        {
          "output_type": "stream",
          "name": "stdout",
          "text": [
            "enter first side of the triangle :6\n",
            "enter second side of the triangle :7\n",
            "enter third side of the triangle :8\n",
            "7The sides of the triangle forms a valid triangle \n"
          ]
        }
      ]
    },
    {
      "cell_type": "code",
      "source": [
        "# swapping two variables\n",
        "a=20\n",
        "b=40\n",
        "\n",
        "#swapping\n",
        "temp = a\n",
        "a = b\n",
        "b = temp\n",
        "\n",
        "print(\"After swapping:\")\n",
        "print(\"a =\", a)\n",
        "print(\"b =\", b)"
      ],
      "metadata": {
        "colab": {
          "base_uri": "https://localhost:8080/"
        },
        "id": "tySF4xSvxjBP",
        "outputId": "79d40831-4eb2-4edb-b4f4-4b097ab578f9"
      },
      "execution_count": null,
      "outputs": [
        {
          "output_type": "stream",
          "name": "stdout",
          "text": [
            "After swapping:\n",
            "a = 40\n",
            "b = 20\n"
          ]
        }
      ]
    },
    {
      "cell_type": "code",
      "source": [
        "# Body Mass Index (BMI) calculator\n",
        "weight = float(input(\"enter your weight in kgs :\"))\n",
        "height = float(input(\"enter your height in metres : \"))\n",
        "\n",
        "BMI = (weight)/(height)**2\n",
        "\n",
        "# condition check\n",
        "\n",
        "if BMI < 18.5:\n",
        "  print(\"underweight\")\n",
        "\n",
        "elif 18.5 <= BMI < 24.9:\n",
        "  print(\"normal weight\")\n",
        "\n",
        "elif 25 <= BMI < 29.9:\n",
        "  print(\"overweight\")\n",
        "\n",
        "else:\n",
        "  print(\"obesity\")\n",
        "\n",
        "\n",
        "\n",
        "\n",
        "\n"
      ],
      "metadata": {
        "colab": {
          "base_uri": "https://localhost:8080/"
        },
        "id": "32qF-_S6y8el",
        "outputId": "1e5a1004-90cc-409a-df47-8a87a18070ef"
      },
      "execution_count": null,
      "outputs": [
        {
          "output_type": "stream",
          "name": "stdout",
          "text": [
            "enter your weight in kgs :75\n",
            "enter your height in metres : 1.77\n",
            "normal weight\n"
          ]
        }
      ]
    },
    {
      "cell_type": "code",
      "source": [
        "# calculates the discount for a product\n",
        "\n",
        "price = float(input(\"enter the price of the product :\"))\n",
        "\n",
        "\n",
        "# initializing discount\n",
        "discount = 0\n",
        "\n",
        "# determine discount rate\n",
        "if price > 1000 :\n",
        "  discount = 0.10\n",
        "\n",
        "elif 500 > price > 1000:\n",
        "  discount = 0.05\n",
        "\n",
        "else:\n",
        "  discount = 0.00\n",
        "\n",
        "discount_amount = price * discount\n",
        "final_price = price - discount_amount\n",
        "\n",
        "print(f\"Original Price: ₹{price:.2f}\")\n",
        "print(f\"Discount Applied: ₹{discount_amount:.2f}\")\n",
        "print(f\"Final Price to Pay: ₹{final_price:.2f}\")"
      ],
      "metadata": {
        "colab": {
          "base_uri": "https://localhost:8080/"
        },
        "id": "8GVuuIkJ0KY3",
        "outputId": "5ee76ca0-6b63-4f52-de6a-23280e8b2a38"
      },
      "execution_count": null,
      "outputs": [
        {
          "output_type": "stream",
          "name": "stdout",
          "text": [
            "enter the price of the product :2300\n",
            "Original Price: ₹2300.00\n",
            "Discount Applied: ₹230.00\n",
            "Final Price to Pay: ₹2070.00\n"
          ]
        }
      ]
    },
    {
      "cell_type": "code",
      "source": [
        "# to calculate the number of days of every month\n",
        "\n",
        "month = input(\"Enter month name: \").lower()\n",
        "\n",
        "if month == \"february\":\n",
        "    year = int(input(\"Enter year: \"))\n",
        "    if (year % 4 == 0 and year % 100 != 0) or (year % 400 == 0):\n",
        "        print(\"February has 29 days.\")\n",
        "    else:\n",
        "        print(\"February has 28 days.\")\n",
        "elif month in [\"april\", \"june\", \"september\", \"november\"]:\n",
        "    print(f\"{month.capitalize()} has 30 days.\")\n",
        "elif month in [\"january\", \"march\", \"may\", \"july\", \"august\", \"october\", \"december\"]:\n",
        "    print(f\"{month.capitalize()} has 31 days.\")\n",
        "else:\n",
        "    print(\"Invalid month name.\")\n"
      ],
      "metadata": {
        "id": "w3YxArO5_4_q",
        "colab": {
          "base_uri": "https://localhost:8080/"
        },
        "outputId": "1c446bf6-ec1c-4106-d94d-d6cf535bd846"
      },
      "execution_count": null,
      "outputs": [
        {
          "output_type": "stream",
          "name": "stdout",
          "text": [
            "Enter month name: march\n",
            "March has 31 days.\n"
          ]
        }
      ]
    },
    {
      "cell_type": "code",
      "source": [
        "# simple ATM\n",
        "\n",
        "balance = 1000  # Starting balance\n",
        "\n",
        "print(\"Welcome to Simple ATM\")\n",
        "print(\"1. Check Balance\")\n",
        "print(\"2. Deposit Money\")\n",
        "print(\"3. Withdraw Money\")\n",
        "\n",
        "choice = int(input(\"Enter your choice (1/2/3): \"))\n",
        "\n",
        "if choice == 1:\n",
        "    print(f\"Your current balance is ₹{balance}\")\n",
        "\n",
        "elif choice == 2:\n",
        "    amount = float(input(\"Enter amount to deposit: ₹\"))\n",
        "    if amount > 0:\n",
        "        balance += amount\n",
        "        print(f\"₹{amount} deposited successfully.\")\n",
        "        print(f\"Updated balance: ₹{balance}\")\n",
        "    else:\n",
        "        print(\"Invalid deposit amount.\")\n",
        "\n",
        "elif choice == 3:\n",
        "    amount = float(input(\"Enter amount to withdraw: ₹\"))\n",
        "    if amount > balance:\n",
        "        print(\"Insufficient balance.\")\n",
        "    elif amount <= 0:\n",
        "        print(\"Invalid withdrawal amount.\")\n",
        "    else:\n",
        "        balance -= amount\n",
        "        print(f\"₹{amount} withdrawn successfully.\")\n",
        "        print(f\"Remaining balance: ₹{balance}\")\n",
        "\n",
        "else:\n",
        "    print(\"Invalid choice. Please enter 1, 2, or 3.\")\n"
      ],
      "metadata": {
        "colab": {
          "base_uri": "https://localhost:8080/"
        },
        "id": "3H0x_OGh8IUs",
        "outputId": "1bba2bd6-517d-47b2-edd5-1c2836d1c18b"
      },
      "execution_count": null,
      "outputs": [
        {
          "output_type": "stream",
          "name": "stdout",
          "text": [
            "Welcome to Simple ATM\n",
            "1. Check Balance\n",
            "2. Deposit Money\n",
            "3. Withdraw Money\n",
            "Enter your choice (1/2/3): 2\n",
            "Enter amount to deposit: ₹100000\n",
            "₹100000.0 deposited successfully.\n",
            "Updated balance: ₹101000.0\n"
          ]
        }
      ]
    },
    {
      "cell_type": "code",
      "source": [
        "# Simplest Age Group Categorizer:\n",
        "\n",
        "age = int(input(\"Enter your age: \"))\n",
        "\n",
        "if age >= 0 and age <= 1:\n",
        "    print(\"Infant\")\n",
        "elif age >= 2 and age <= 4:\n",
        "    print(\"Toddler\")\n",
        "elif age >= 5 and age <= 12:\n",
        "    print(\"Child\")\n",
        "elif age >= 13 and age <= 19:\n",
        "    print(\"Teenager\")\n",
        "elif age >= 20 and age <= 59:\n",
        "    print(\"Adult\")\n",
        "elif age >= 60:\n",
        "    print(\"Senior\")\n",
        "else:\n",
        "    print(\"Invalid age\")\n"
      ],
      "metadata": {
        "colab": {
          "base_uri": "https://localhost:8080/"
        },
        "id": "ifUhbxDcDf8Q",
        "outputId": "d8aabf8d-b12f-4f7f-ad36-8e91c8e372c8"
      },
      "execution_count": null,
      "outputs": [
        {
          "output_type": "stream",
          "name": "stdout",
          "text": [
            "Enter your age: 20\n",
            "Adult\n"
          ]
        }
      ]
    },
    {
      "cell_type": "code",
      "source": [
        "# Simple Day-of-Week Program:\n",
        "\n",
        "day_num = int(input(\"Enter a number (1-7): \"))\n",
        "\n",
        "if day_num == 1:\n",
        "    print(\"Monday\")\n",
        "elif day_num == 2:\n",
        "    print(\"Tuesday\")\n",
        "elif day_num == 3:\n",
        "    print(\"Wednesday\")\n",
        "elif day_num == 4:\n",
        "    print(\"Thursday\")\n",
        "elif day_num == 5:\n",
        "    print(\"Friday\")\n",
        "elif day_num == 6:\n",
        "    print(\"Saturday\")\n",
        "elif day_num == 7:\n",
        "    print(\"Sunday\")\n",
        "else:\n",
        "    print(\"Invalid number! Please enter a number from 1 to 7.\")\n"
      ],
      "metadata": {
        "id": "WnXutrQ7D1zA",
        "outputId": "23e21f15-e574-4297-e021-fbc11f786839",
        "colab": {
          "base_uri": "https://localhost:8080/"
        }
      },
      "execution_count": null,
      "outputs": [
        {
          "output_type": "stream",
          "name": "stdout",
          "text": [
            "Enter a number (1-7): 5\n",
            "Friday\n"
          ]
        }
      ]
    }
  ]
}