{
  "nbformat": 4,
  "nbformat_minor": 0,
  "metadata": {
    "colab": {
      "provenance": [],
      "authorship_tag": "ABX9TyNwqU8fMB/QY48qLwZwo8gf",
      "include_colab_link": true
    },
    "kernelspec": {
      "name": "python3",
      "display_name": "Python 3"
    },
    "language_info": {
      "name": "python"
    }
  },
  "cells": [
    {
      "cell_type": "markdown",
      "metadata": {
        "id": "view-in-github",
        "colab_type": "text"
      },
      "source": [
        "<a href=\"https://colab.research.google.com/github/ArushiTrivedi26/summer-git/blob/main/09may_assignement.ipynb\" target=\"_parent\"><img src=\"https://colab.research.google.com/assets/colab-badge.svg\" alt=\"Open In Colab\"/></a>"
      ]
    },
    {
      "cell_type": "code",
      "execution_count": null,
      "metadata": {
        "colab": {
          "base_uri": "https://localhost:8080/"
        },
        "id": "dA-rOqKgT27T",
        "outputId": "1e51d328-e422-4d5a-85be-33ae665f2eac"
      },
      "outputs": [
        {
          "output_type": "stream",
          "name": "stdout",
          "text": [
            "Hello World\n"
          ]
        }
      ],
      "source": [
        "print(\"Hello World\")"
      ]
    },
    {
      "cell_type": "code",
      "source": [
        "#take an integer from the user and check whether the number is even or odd\n",
        "n=int(input(\"enter an integer:\"))\n",
        "if n%2==0:\n",
        "  print(\"number is even\")\n",
        "else:\n",
        "  print(\"number is false\")"
      ],
      "metadata": {
        "colab": {
          "base_uri": "https://localhost:8080/"
        },
        "id": "fiyRBXtjUNJH",
        "outputId": "efd05237-50c4-420c-efb9-6cf6644611ed"
      },
      "execution_count": null,
      "outputs": [
        {
          "output_type": "stream",
          "name": "stdout",
          "text": [
            "enter an integer:34\n",
            "number is even\n"
          ]
        }
      ]
    },
    {
      "cell_type": "code",
      "source": [
        "# Write a program that takes three numbers as input and prints the largest of the three.\n",
        "x=input(\"enter first number:\")\n",
        "y=input(\"enter second number:\")\n",
        "z=input(\"enter third number:\")\n",
        "if x>y and x>z :\n",
        "  print(\"x is largest of three\")\n",
        "elif y>x and y>z:\n",
        "  print(\"y is largest of three\")\n",
        "else:\n",
        "  print(\"z is largest of three\")"
      ],
      "metadata": {
        "colab": {
          "base_uri": "https://localhost:8080/"
        },
        "id": "VR4PoujvVi1N",
        "outputId": "06ddf2c4-3868-40da-9d7c-a378c2c1bfd2"
      },
      "execution_count": null,
      "outputs": [
        {
          "output_type": "stream",
          "name": "stdout",
          "text": [
            "enter first number:67\n",
            "enter second number:78\n",
            "enter third number:89\n",
            "z is largest of three\n"
          ]
        }
      ]
    },
    {
      "cell_type": "code",
      "source": [
        "# Write a program to check if a given year is a leap year. A leap year is divisible by 4 but not by 100 unless it is also divisible by 400.\n",
        "year = int(input(\"enter the year:\"))\n",
        "if (year % 4 == 0 and year % 100 != 0) or (year % 400 == 0 ):\n",
        "  print(str(year) +\"is a leap year\")\n",
        "else:\n",
        "  print(str(year) +\"is not a leap year\")"
      ],
      "metadata": {
        "colab": {
          "base_uri": "https://localhost:8080/"
        },
        "id": "LLW3j2QQW7GG",
        "outputId": "42207669-ec65-4035-da76-59b6b16e1de0"
      },
      "execution_count": null,
      "outputs": [
        {
          "output_type": "stream",
          "name": "stdout",
          "text": [
            "enter the year:1987\n",
            "1987is not a leap year\n"
          ]
        }
      ]
    },
    {
      "cell_type": "code",
      "source": [
        "# Write a program to check if a given year is a leap year. A leap year is divisible by 4 but not by 100 unless it is also divisible by 400.\n",
        "year = int(input(\"enter the year:\"))\n",
        "if (year % 4 == 0 and year % 100 != 0) or (year % 400 == 0):\n",
        "  print(f\"{year} is a leap year\")\n",
        "\n",
        "else:\n",
        "  print(f\"{year} is not a leap year\")"
      ],
      "metadata": {
        "colab": {
          "base_uri": "https://localhost:8080/"
        },
        "id": "8m1jxADvZ4Zl",
        "outputId": "a1d8c60c-70d8-4e29-9b14-3c8cb0223c09"
      },
      "execution_count": null,
      "outputs": [
        {
          "output_type": "stream",
          "name": "stdout",
          "text": [
            "enter the year:1962\n",
            "1962 is not a leap year\n"
          ]
        }
      ]
    },
    {
      "cell_type": "code",
      "source": [],
      "metadata": {
        "id": "VnCOFjyqg0L7"
      },
      "execution_count": null,
      "outputs": []
    },
    {
      "cell_type": "code",
      "source": [
        "# Write a program that takes a percentage (integer) as input and prints the corresponding grade based on the following criteria\n",
        "'''≥ 90: Grade A\n",
        "    ≥ 80: Grade B\n",
        "    ≥ 70: Grade C\n",
        "    ≥ 60: Grade D\n",
        "    < 60: Grade F'''\n",
        "percentage = int(input(\"enter your percentage:\"))\n",
        "if (percentage >= 90):\n",
        "  print(\"Grade A\")\n",
        "elif (percentage >= 80):\n",
        "  print(\"Grade B\")\n",
        "elif (percentage >= 70):\n",
        "  print(\"Grade c\")\n",
        "elif (percentage >= 60):\n",
        "  print(\"Grade d\")\n",
        "else:\n",
        "  print(\"Grade F\")\n",
        "\n"
      ],
      "metadata": {
        "colab": {
          "base_uri": "https://localhost:8080/"
        },
        "id": "YAaix0bfawMX",
        "outputId": "3c6de213-0286-44dc-d3da-b29583aa51e7"
      },
      "execution_count": null,
      "outputs": [
        {
          "output_type": "stream",
          "name": "stdout",
          "text": [
            "enter your percentage:78\n",
            "Grade c\n"
          ]
        }
      ]
    },
    {
      "cell_type": "code",
      "source": [
        "# Vowel or Consonant Checker\n",
        "\n",
        "letter = input(\"Enter any alphabet: \").lower()  # Convert to lowercase for consistency\n",
        "\n",
        "# Check if input is a single letter\n",
        "if len(letter) == 1 and letter.isalpha():\n",
        "    if letter in ('a', 'e', 'i', 'o', 'u'):\n",
        "        print(letter, \"is a vowel.\")\n",
        "    else:\n",
        "        print(letter, \"is a consonant.\")\n",
        "else:\n",
        "    print(\"Please enter a single valid alphabet letter.\")\n"
      ],
      "metadata": {
        "colab": {
          "base_uri": "https://localhost:8080/"
        },
        "id": "1rxalsGViHkg",
        "outputId": "a14a5506-ee47-4106-bcb7-e84077a47220"
      },
      "execution_count": null,
      "outputs": [
        {
          "output_type": "stream",
          "name": "stdout",
          "text": [
            "Enter any alphabet: d\n",
            "d is a consonant.\n"
          ]
        }
      ]
    },
    {
      "cell_type": "code",
      "source": [
        "# Write a basic calculator program that takes two numbers and an operator (+, -, *, /) as input and performs the specified operation. Print the result based on the operation.\n",
        "a = int(input(\"enter the first number:\"))\n",
        "b = int(input(\"enter the second number:\"))\n",
        "operator = input(\"enter operator(+ , - , * , / ):\")\n",
        "\n",
        "if operator == '+' :\n",
        "  print(a+b)\n",
        "elif operator == '-' :\n",
        "  print(a-b)\n",
        "elif operator == '*' :\n",
        "  print(a*b)\n",
        "elif operator == '/' :\n",
        "  print(a/b)\n",
        "else :\n",
        "  print(\"invalid operator\")"
      ],
      "metadata": {
        "colab": {
          "base_uri": "https://localhost:8080/"
        },
        "id": "AmY5MkWbqqgO",
        "outputId": "7975696a-786f-4372-9a50-f7fb025ea71a"
      },
      "execution_count": null,
      "outputs": [
        {
          "output_type": "stream",
          "name": "stdout",
          "text": [
            "enter the first number:24\n",
            "enter the second number:37\n",
            "enter operator(+ , - , * , / ):/\n",
            "0.6486486486486487\n"
          ]
        }
      ]
    },
    {
      "cell_type": "code",
      "source": [
        "# Write a program that takes a number as input and checks whether it is positive, negative, or zero.\n",
        "number = float(input(\"enter any number:\"))\n",
        "if number > 0 :\n",
        "  print(\"number is positive\")\n",
        "elif number < 0 :\n",
        "  print(\"number is negative\")\n",
        "else:\n",
        "  print(\"number is zero\")"
      ],
      "metadata": {
        "colab": {
          "base_uri": "https://localhost:8080/"
        },
        "id": "Gn-tOXxjyaUi",
        "outputId": "c3fe5f69-d3c1-46b8-ef23-c5671f40c58a"
      },
      "execution_count": null,
      "outputs": [
        {
          "output_type": "stream",
          "name": "stdout",
          "text": [
            "enter any number:-987\n",
            "number is negative\n"
          ]
        }
      ]
    }
  ]
}